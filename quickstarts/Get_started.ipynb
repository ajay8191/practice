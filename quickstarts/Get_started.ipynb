{
  "cells": [
    {
      "cell_type": "markdown",
      "metadata": {
        "id": "NtVOlmDSHmh4"
      },
      "source": [
        "##### Copyright 2025 Google LLC."
      ]
    },
    {
      "cell_type": "code",
      "execution_count": null,
      "metadata": {
        "id": "kC3bJQJcUKFk",
        "outputId": "0002a8a7-5a86-42d0-fa16-7a39206a4128"
      },
      "outputs": [
        {
          "data": {
            "text/markdown": "",
            "text/plain": [
              "<IPython.core.display.Markdown object>"
            ]
          },
          "execution_count": 36,
          "metadata": {},
          "output_type": "execute_result"
        }
      ],
      "source": [
        "# Upload the file using the API\n",
        "file_upload = client.files.upload(file=text_path)\n",
        "\n",
        "response = client.models.generate_content(\n",
        "    model=MODEL_ID,\n",
        "    contents=[\n",
        "        file_upload,\n",
        "        \"Can you give me a summary of this information please?\",\n",
        "    ]\n",
        ")\n",
        "\n",
        "Markdown(response.text)"
      ]
    },
    {
      "cell_type": "code",
      "execution_count": null,
      "metadata": {
        "cellView": "form",
        "id": "9r9Ggw012g9c"
      },
      "outputs": [],
      "source": [
        "# @title Licensed under the Apache License, Version 2.0 (the \"License\");\n",
        "#\n",
        "# Licensed under the Apache License, Version 2.0 (the \"License\");\n",
        "# you may not use this file except in compliance with the License.\n",
        "# You may obtain a copy of the License at\n",
        "#\n",
        "#     https://www.apache.org/licenses/LICENSE-2.0\n",
        "#\n",
        "# Unless required by applicable law or agreed to in writing, software\n",
        "# distributed under the License is distributed on an \"AS IS\" BASIS,\n",
        "# WITHOUT WARRANTIES OR CONDITIONS OF ANY KIND, either express or implied.\n",
        "# See the License for the specific language governing permissions and\n",
        "# limitations under the License."
      ]
    },
    {
      "cell_type": "markdown",
      "metadata": {
        "id": "QLV19RrMUlaw"
      },
      "source": [
        "### Upload a PDF file\n",
        "\n",
        "This PDF page is an article titled [Smoothly editing material properties of objects](https://research.google/blog/smoothly-editing-material-properties-of-objects-with-text-to-image-models-and-synthetic-data/) with text-to-image models and synthetic data available on the Google Research Blog."
      ]
    },
    {
      "cell_type": "code",
      "execution_count": null,
      "metadata": {
        "id": "b0BfhLDFWfCS",
        "outputId": "17e587bc-7f8c-4494-b793-2684e559ce9c"
      },
      "outputs": [
        {
          "data": {
            "text/plain": [
              "6695391"
            ]
          },
          "execution_count": 37,
          "metadata": {},
          "output_type": "execute_result"
        }
      ],
      "source": [
        "# Prepare the file to be uploaded\n",
        "PDF = \"https://storage.googleapis.com/generativeai-downloads/data/Smoothly%20editing%20material%20properties%20of%20objects%20with%20text-to-image%20models%20and%20synthetic%20data.pdf\"  # @param {type: \"string\"}\n",
        "pdf_bytes = requests.get(PDF).content\n",
        "\n",
        "pdf_path = pathlib.Path('article.pdf')\n",
        "pdf_path.write_bytes(pdf_bytes)"
      ]
    },
    {
      "cell_type": "code",
      "execution_count": null,
      "metadata": {
        "id": "tH2h2WDVWptt",
        "outputId": "3037ccc3-3d5d-484b-daa6-753ff8a88939"
      },
      "outputs": [
        {
          "data": {
            "text/markdown": "Here is a summary of the article as a bulleted list:\n\n*   The article presents a method called \"Alchemist\" for smoothly and parametrically editing the material properties (like color, shininess, or transparency) of objects in photographs.\n*   The goal is to achieve photorealistic edits while preserving the object's shape and the original scene lighting.\n*   Existing methods, such as intrinsic image decomposition or direct text-to-image model editing, struggle with the ambiguity of material properties or fail to disentangle material from shape.\n*   The proposed method leverages the photorealistic capabilities of generative text-to-image (T2I) models by fine-tuning them on a large synthetic dataset.\n*   The synthetic dataset is created by rendering 3D models of objects with varying material attributes and systematically changing one attribute at a time (e.g., roughness, transparency) according to a scalar \"edit strength\" value.\n*   A modified Stable Diffusion 1.5 model is trained to accept an input image, an edit instruction, and the desired edit strength, learning to translate these inputs into an output image with the edited material property.\n*   The model successfully generalizes to real-world images, producing photorealistic material changes while largely maintaining the original object's geometry and lighting.\n*   It can realistically render complex effects like backgrounds visible through transparent objects and caustic lighting effects.\n*   A user study showed that the method's edits were significantly more photorealistic and preferred over a baseline method (InstructPix2Pix).\n*   Potential applications include creating product mock-ups and enabling 3D consistent material editing when combined with techniques like NeRF.\n*   The research was presented in a paper at CVPR 2024.",
            "text/plain": [
              "<IPython.core.display.Markdown object>"
            ]
          },
          "execution_count": 38,
          "metadata": {},
          "output_type": "execute_result"
        }
      ],
      "source": [
        "# Upload the file using the API\n",
        "file_upload = client.files.upload(file=pdf_path)\n",
        "\n",
        "response = client.models.generate_content(\n",
        "    model=MODEL_ID,\n",
        "    contents=[\n",
        "        file_upload,\n",
        "        \"Can you summarize this file as a bulleted list?\",\n",
        "    ]\n",
        ")\n",
        "\n",
        "Markdown(response.text)"
      ]
    },
    {
      "cell_type": "markdown",
      "metadata": {
        "id": "9NWO1moe9fx-"
      },
      "source": [
        "### Upload an audio file\n",
        "\n",
        "In this case, you'll use a [sound recording](https://www.jfklibrary.org/asset-viewer/archives/jfkwha-006) of President John F. Kennedy’s 1961 State of the Union address."
      ]
    },
    {
      "cell_type": "code",
      "execution_count": null,
      "metadata": {
        "id": "lCSuGd9i9fEB",
        "outputId": "3a5b62a9-e26c-4804-dc31-fc47f4419f1f"
      },
      "outputs": [
        {
          "data": {
            "text/plain": [
              "41762063"
            ]
          },
          "execution_count": 39,
          "metadata": {},
          "output_type": "execute_result"
        }
      ],
      "source": [
        "# Prepare the file to be uploaded\n",
        "AUDIO = \"https://storage.googleapis.com/generativeai-downloads/data/State_of_the_Union_Address_30_January_1961.mp3\"  # @param {type: \"string\"}\n",
        "audio_bytes = requests.get(AUDIO).content\n",
        "\n",
        "audio_path = pathlib.Path('audio.mp3')\n",
        "audio_path.write_bytes(audio_bytes)"
      ]
    },
    {
      "cell_type": "code",
      "execution_count": null,
      "metadata": {
        "id": "0wjKO0eI9yps",
        "outputId": "e1b59fb1-9eb0-4d54-8f45-a246723cc7a3"
      },
      "outputs": [
        {
          "data": {
            "text/markdown": "This audio is President John F. Kennedy's first State of the Union address, delivered on January 30, 1961.\n\nIn the speech, Kennedy provides a frank assessment of the nation's situation, highlighting both domestic and international challenges. Domestically, he details a struggling economy with high unemployment, low growth, and issues in housing, education, and healthcare, proposing immediate actions to address them. Internationally, he discusses the concerning balance of payments deficit and the growing threats posed by the Cold War and communism in various regions (Asia, Africa, Latin America). He calls for strengthening military, economic, and diplomatic capabilities, emphasizing the need for robust alliances, international cooperation (including in science and space), and a reformed, more decisive public service. The speech stresses the importance of facing difficulties realistically, preparing for future challenges, and requires dedication from all citizens to secure freedom and progress worldwide.",
            "text/plain": [
              "<IPython.core.display.Markdown object>"
            ]
          },
          "execution_count": 40,
          "metadata": {},
          "output_type": "execute_result"
        }
      ],
      "source": [
        "# Upload the file using the API\n",
        "file_upload = client.files.upload(file=audio_path)\n",
        "\n",
        "response = client.models.generate_content(\n",
        "    model=MODEL_ID,\n",
        "    contents=[\n",
        "        file_upload,\n",
        "        \"Listen carefully to the following audio file. Provide a brief summary\",\n",
        "    ]\n",
        ")\n",
        "\n",
        "Markdown(response.text)"
      ]
    },
    {
      "cell_type": "markdown",
      "metadata": {
        "id": "KdUjkIQP-G_i"
      },
      "source": [
        "### Upload a video file\n",
        "\n",
        "In this case, you'll use a short clip of [Big Buck Bunny](https://peach.blender.org/about/)."
      ]
    },
    {
      "cell_type": "code",
      "execution_count": null,
      "metadata": {
        "id": "e9ohtLxU-SFE",
        "outputId": "6dde6dc2-5769-46ad-9115-01453df5bb57"
      },
      "outputs": [
        {
          "name": "stdout",
          "output_type": "stream",
          "text": [
            "--2025-04-18 12:09:07--  https://download.blender.org/peach/bigbuckbunny_movies/BigBuckBunny_320x180.mp4\n",
            "Resolving download.blender.org (download.blender.org)... 172.67.14.163, 104.22.65.163, 104.22.64.163, ...\n",
            "Connecting to download.blender.org (download.blender.org)|172.67.14.163|:443... connected.\n",
            "HTTP request sent, awaiting response... 200 OK\n",
            "Length: 64657027 (62M) [video/mp4]\n",
            "Saving to: ‘BigBuckBunny_320x180.mp4’\n",
            "\n",
            "BigBuckBunny_320x18 100%[===================>]  61.66M   141MB/s    in 0.4s    \n",
            "\n",
            "2025-04-18 12:09:08 (141 MB/s) - ‘BigBuckBunny_320x180.mp4’ saved [64657027/64657027]\n",
            "\n"
          ]
        }
      ],
      "source": [
        "# Download the video file\n",
        "VIDEO_URL = \"https://download.blender.org/peach/bigbuckbunny_movies/BigBuckBunny_320x180.mp4\"  # @param {type: \"string\"}\n",
        "video_file_name = \"BigBuckBunny_320x180.mp4\"\n",
        "!wget -O {video_file_name} $VIDEO_URL"
      ]
    },
    {
      "cell_type": "markdown",
      "metadata": {
        "id": "iyFVXPspS5GF"
      },
      "source": [
        "Let's start by uploading the video file."
      ]
    },
    {
      "cell_type": "code",
      "execution_count": null,
      "metadata": {
        "id": "PY1WlxMk-0Uy",
        "outputId": "942770b2-0bd5-4ac3-e1ec-62758eae8b10"
      },
      "outputs": [
        {
          "name": "stdout",
          "output_type": "stream",
          "text": [
            "Completed upload: https://generativelanguage.googleapis.com/v1beta/files/prqn913jn9t8\n"
          ]
        }
      ],
      "source": [
        "# Upload the file using the API\n",
        "video_file = client.files.upload(file=video_file_name)\n",
        "print(f\"Completed upload: {video_file.uri}\")"
      ]
    },
    {
      "cell_type": "markdown",
      "metadata": {
        "id": "_yRG9BPXS65b"
      },
      "source": [
        "The state of the video is important. The video must finish processing, so do check the state. Once the state of the video is `ACTIVE`, you are able to pass it into `generate_content`."
      ]
    },
    {
      "cell_type": "code",
      "execution_count": null,
      "metadata": {
        "id": "eEk4P3fK_OcJ",
        "outputId": "3fba4dfc-9004-4281-950a-38a891b146d1"
      },
      "outputs": [
        {
          "name": "stdout",
          "output_type": "stream",
          "text": [
            "Waiting for video to be processed.\n",
            "Video processing complete: https://generativelanguage.googleapis.com/v1beta/files/prqn913jn9t8\n"
          ]
        }
      ],
      "source": [
        "import time\n",
        "\n",
        "# Check the file processing state\n",
        "while video_file.state == \"PROCESSING\":\n",
        "    print('Waiting for video to be processed.')\n",
        "    time.sleep(10)\n",
        "    video_file = client.files.get(name=video_file.name)\n",
        "\n",
        "if video_file.state == \"FAILED\":\n",
        "  raise ValueError(video_file.state)\n",
        "print(f'Video processing complete: ' + video_file.uri)"
      ]
    },
    {
      "cell_type": "code",
      "execution_count": null,
      "metadata": {
        "id": "oMz9GIuvAiCO",
        "outputId": "9a182589-a17f-487d-a309-dd0b072221c4"
      },
      "outputs": [
        {
          "name": "stdout",
          "output_type": "stream",
          "text": [
            "FileState.ACTIVE\n"
          ]
        }
      ],
      "source": [
        "print(video_file.state)"
      ]
    },
    {
      "cell_type": "code",
      "execution_count": null,
      "metadata": {
        "id": "cX82TyGL-e2O",
        "outputId": "316d0dee-1b63-4b9c-9541-f35f984c80b5"
      },
      "outputs": [
        {
          "data": {
            "text/markdown": "The video is a clip from the open-source animated short film \"Big Buck Bunny\" (produced by the Blender Foundation). It opens with a peaceful pastoral scene: rolling green hills, scattered trees (including pine and deciduous), rocks, flowers, and a stream, under a bright sky with fluffy pink clouds.\n\nA small, plump, grey bird is perched on a branch, yawning and stretching, but is soon knocked off.\n\nThe camera then focuses on a large burrow entrance under a tree root, where a very large, fluffy, grey rabbit is sleeping. It wakes up, stretches, emerges from the burrow, and smiles contentedly at the sunny morning.\n\nThe rabbit enjoys the day, sniffing large white flowers and watching a beautiful pink butterfly land on its head. An apple falls from a tree, but the rabbit's attention is drawn back to the butterfly.\n\nHiding behind a tree root are three smaller rodent characters: two squirrels (one brown, one reddish-brown and spikier) and a grey chinchilla/hamster, all looking mischievous. The chinchilla holds a nut.\n\nThe squirrels begin to torment the rabbit by throwing small objects at it (rocks, nuts, and spiky chestnuts). The rabbit is initially startled and confused, but quickly becomes annoyed and then angry.\n\nDriven by vengeance, Big Buck Bunny decides to retaliate. He prepares by sharpening a stick with a rock and creating a large spear using a vine as a bowstring. He takes aim at the squirrels hiding behind a tree and shoots the spear, which punctures the tree trunk.\n\nUndeterred, the squirrels continue their harassment. Big Buck then sets up a trap: a series of sharpened sticks concealed under leaves on the ground, connected by a vine which he pulls taut like a tripwire.\n\nThe angry flying squirrel tries to knock a peach from a tree but ends up knocking it towards the stakes, where it gets impaled. Big Buck then catches the flying squirrel.\n\nIn the final scene before the credits, Big Buck Bunny is seen happily flying the terrified flying squirrel like a kite.\n\nThe credits roll, featuring brief animated appearances of the chinchilla and the red squirrel interacting with the text, and finally the little bird flying the flying squirrel (still as a kite) past the credits.",
            "text/plain": [
              "<IPython.core.display.Markdown object>"
            ]
          },
          "execution_count": 45,
          "metadata": {},
          "output_type": "execute_result"
        }
      ],
      "source": [
        "# Ask Gemini about the video\n",
        "response = client.models.generate_content(\n",
        "    model=MODEL_ID,\n",
        "    contents=[\n",
        "        video_file,\n",
        "        \"Describe this video.\",\n",
        "    ]\n",
        ")\n",
        "\n",
        "Markdown(response.text)"
      ]
    },
    {
      "cell_type": "markdown",
      "metadata": {
        "id": "65_qu3UsM8_M"
      },
      "source": [
        "### Process a YouTube link"
      ]
    },
    {
      "cell_type": "markdown",
      "metadata": {
        "id": "GXNlrAsZR7bB"
      },
      "source": [
        "For YouTube links, you don't need to explicitly upload the video file content, but you do need to explicitly declare the video URL you want the model to process as part of the `contents` of the request. For more information see the [vision](https://ai.google.dev/gemini-api/docs/vision?lang=python#youtube) documentation including the features and limits.\n",
        "\n",
        "> **Note:** You are only able to submit up to one YouTube link per `generate_content` request.\n",
        "\n",
        "> **Note:** YouTube links included as part of the text input won't being processed in the request, an can lead to incorrect responses. You must explicitly the URL using the `file_uri` argument of `FileData`.\n",
        "\n",
        "The following example shows how you can use the model to summarize the video. In this case use a summary video of [Google I/O 2024](\"https://www.youtube.com/watch?v=WsEQjeZoEng\")."
      ]
    },
    {
      "cell_type": "code",
      "execution_count": null,
      "metadata": {
        "id": "zcqXUrYSTrLQ",
        "outputId": "70e20872-20e1-4903-9ae5-eebf18298d85"
      },
      "outputs": [
        {
          "data": {
            "text/markdown": "Based on the video, here is a summary of the Google I/O 2024 keynote:\n\nThe keynote highlights Google's progress in the \"Gemini era,\" integrating their multimodal AI models across their products and introducing new capabilities and models. Key announcements and features include:\n\n1.  **Gemini Integration:** Gemini is now integrated into all of Google's 2 billion user products, enhancing existing features.\n2.  **Gemini 1.5 Pro in Workspace:** Available today in Workspace Labs, it can summarize long emails and potentially other documents. It can also summarize recorded Google Meet meetings.\n3.  **Gemini in Google Photos:** Enables deeper search capabilities, allowing users to find specific memories or track progress over time by understanding the content within photos and videos.\n4.  **Expanded Context Window:** Gemini 1.5 Pro's context window is expanded to 2 million tokens, allowing it to process much larger amounts of information simultaneously (e.g., summarizing very long documents or videos).\n5.  **Project Astra:** A prototype for a universal AI agent that is truly helpful in everyday life. Demos show the agent understanding real-time visual and audio input to explain code, remember object locations, and even suggest creative ideas (like a band name for a dog and a toy).\n6.  **Gemini 1.5 Flash:** A new, lighter-weight, faster, and more cost-efficient multimodal model designed for scaling, while still retaining strong reasoning and long-context capabilities.\n7.  **Veo:** A new, highly capable generative video model that creates high-quality 1080p videos from text, image, and video prompts.\n8.  **Trillium TPUs:** The 6th generation of Google's custom chips for AI/ML, delivering a 4.7x improvement in compute performance per chip over the previous generation.\n9.  **Generative AI in Google Search:** AI Overviews are becoming more powerful, able to handle complex, multi-part questions and provide quick answers and summaries. This is coming to over 1 billion people by the end of the year.\n10. **Google Lens Integration:** Soon, users can ask questions about a video by pointing Google Lens at it, getting relevant information instantly (e.g., troubleshooting a turntable based on visual input).\n11. **Gems:** Customizable personal AI experts within Gemini, available for Gemini Advanced subscribers. Users can create specific assistants for their needs by providing instructions, which can then handle complex tasks and answer questions across multiple uploaded files (up to 1500 pages per PDF or multiple files for project insights). Gemini Advanced offers a 1 million token context window for this.\n12. **AI in Android:** Gemini is being reimagined at the core of Android to be more context-aware, anticipating user needs and providing helpful suggestions in the moment. Gemini Nano with Multimodality will enable the phone to understand the world through sight, sound, and spoken language.\n13. **Gemma & PaliGemma:** Expansion of the open model family. PaliGemma is the first vision-language open model, available now.\n14. **Gemma 2:** The next generation of Gemma, including a new 27 billion parameter model, will be available in June for driving AI innovation responsibly.\n15. **LearnLM:** A new family of models based on Gemini and fine-tuned for learning. A new feature in YouTube uses LearnLM to make educational videos more interactive, allowing users to ask clarifying questions, get explanations, and take quizzes.\n16. **Responsible AI:** Google emphasizes its commitment to building AI responsibly through practices like red teaming to identify and address potential risks while maximizing benefits for society.\n\nOverall, the keynote showcases Google's focus on making AI, particularly through the Gemini family of models, more powerful, multimodal, context-aware, and helpful across its platforms and products, while also emphasizing responsible development.",
            "text/plain": [
              "<IPython.core.display.Markdown object>"
            ]
          },
          "execution_count": 46,
          "metadata": {},
          "output_type": "execute_result"
        }
      ],
      "source": [
        "response = client.models.generate_content(\n",
        "    model=MODEL_ID,\n",
        "    contents= types.Content(\n",
        "        parts=[\n",
        "            types.Part(text=\"Summarize this video.\"),\n",
        "            types.Part(\n",
        "                file_data=types.FileData(file_uri='https://www.youtube.com/watch?v=WsEQjeZoEng')\n",
        "            )\n",
        "        ]\n",
        "    )\n",
        ")\n",
        "\n",
        "Markdown(response.text)"
      ]
    },
    {
      "cell_type": "markdown",
      "metadata": {
        "id": "oTgeR3_9wN5J"
      },
      "source": [
        "## Use context caching\n",
        "\n",
        "[Context caching](https://ai.google.dev/gemini-api/docs/caching?lang=python) lets you to store frequently used input tokens in a dedicated cache and reference them for subsequent requests, eliminating the need to repeatedly pass the same set of tokens to a model.\n",
        "\n",
        "Context caching is only available for stable models with fixed versions (for example, `gemini-1.5-flash-002`). You must include the version postfix (for example, the `-002` in `gemini-1.5-flash-002`). You can find more caching examples [here](https://github.com/google-gemini/cookbook/blob/main/quickstarts/Caching.ipynb)."
      ]
    },
    {
      "cell_type": "markdown",
      "metadata": {
        "id": "Tgl2gzmuwQXz"
      },
      "source": [
        "#### Create a cache"
      ]
    },
    {
      "cell_type": "code",
      "execution_count": null,
      "metadata": {
        "id": "b2Jb0gaiwOVi"
      },
      "outputs": [],
      "source": [
        "system_instruction = \"\"\"\n",
        "  You are an expert researcher who has years of experience in conducting systematic literature surveys and meta-analyses of different topics.\n",
        "  You pride yourself on incredible accuracy and attention to detail. You always stick to the facts in the sources provided, and never make up new facts.\n",
        "  Now look at the research paper below, and answer the following questions in 1-2 sentences.\n",
        "\"\"\"\n",
        "\n",
        "urls = [\n",
        "    'https://storage.googleapis.com/cloud-samples-data/generative-ai/pdf/2312.11805v3.pdf',\n",
        "    \"https://storage.googleapis.com/cloud-samples-data/generative-ai/pdf/2403.05530.pdf\",\n",
        "]"
      ]
    },
    {
      "cell_type": "code",
      "execution_count": null,
      "metadata": {
        "id": "ZrZ64o5Sydm_",
        "outputId": "e396077f-a340-4724-c333-fef797c1f8ca"
      },
      "outputs": [
        {
          "data": {
            "text/plain": [
              "7228817"
            ]
          },
          "execution_count": 48,
          "metadata": {},
          "output_type": "execute_result"
        }
      ],
      "source": [
        "# Download files\n",
        "pdf_bytes = requests.get(urls[0]).content\n",
        "pdf_path = pathlib.Path('2312.11805v3.pdf')\n",
        "pdf_path.write_bytes(pdf_bytes)\n",
        "\n",
        "pdf_bytes = requests.get(urls[1]).content\n",
        "pdf_path = pathlib.Path('2403.05530.pdf')\n",
        "pdf_path.write_bytes(pdf_bytes)"
      ]
    },
    {
      "cell_type": "code",
      "execution_count": null,
      "metadata": {
        "id": "ZrylX7r3w2bF"
      },
      "outputs": [],
      "source": [
        "# Upload the PDFs using the File API\n",
        "uploaded_pdfs = []\n",
        "uploaded_pdfs.append(client.files.upload(file='2312.11805v3.pdf'))\n",
        "uploaded_pdfs.append(client.files.upload(file='2403.05530.pdf'))"
      ]
    },
    {
      "cell_type": "code",
      "execution_count": null,
      "metadata": {
        "id": "7MBsaipow7m5",
        "outputId": "b8983503-76b2-44c5-cd8e-7a032dc4cf89"
      },
      "outputs": [
        {
          "data": {
            "text/plain": [
              "CachedContent(name='cachedContents/ql5fbzexj5rl', display_name='research papers', model='models/gemini-2.5-flash-preview-04-17', create_time=datetime.datetime(2025, 4, 18, 12, 10, 43, 598484, tzinfo=TzInfo(UTC)), update_time=datetime.datetime(2025, 4, 18, 12, 10, 43, 598484, tzinfo=TzInfo(UTC)), expire_time=datetime.datetime(2025, 4, 18, 13, 10, 42, 12326, tzinfo=TzInfo(UTC)), usage_metadata=CachedContentUsageMetadata(audio_duration_seconds=None, image_count=None, text_count=None, total_token_count=43167, video_duration_seconds=None))"
            ]
          },
          "execution_count": 50,
          "metadata": {},
          "output_type": "execute_result"
        }
      ],
      "source": [
        "# Create a cache with a 60 minute TTL\n",
        "cached_content = client.caches.create(\n",
        "    model=MODEL_ID,\n",
        "    config=types.CreateCachedContentConfig(\n",
        "      display_name='research papers', # used to identify the cache\n",
        "      system_instruction=system_instruction,\n",
        "      contents=uploaded_pdfs,\n",
        "      ttl=\"3600s\",\n",
        "  )\n",
        ")\n",
        "\n",
        "cached_content"
      ]
    },
    {
      "cell_type": "markdown",
      "metadata": {
        "id": "2870527e1c84"
      },
      "source": [
        "#### Listing available cache objects"
      ]
    },
    {
      "cell_type": "code",
      "execution_count": null,
      "metadata": {
        "id": "3be7c2339be3",
        "outputId": "cde4ca7d-a8b5-452e-dd01-2ca166d7bde7"
      },
      "outputs": [
        {
          "name": "stdout",
          "output_type": "stream",
          "text": [
            "name='cachedContents/ql5fbzexj5rl' display_name='research papers' model='models/gemini-2.5-flash-preview-04-17' create_time=datetime.datetime(2025, 4, 18, 12, 10, 43, 598484, tzinfo=TzInfo(UTC)) update_time=datetime.datetime(2025, 4, 18, 12, 10, 43, 598484, tzinfo=TzInfo(UTC)) expire_time=datetime.datetime(2025, 4, 18, 13, 10, 42, 12326, tzinfo=TzInfo(UTC)) usage_metadata=CachedContentUsageMetadata(audio_duration_seconds=None, image_count=None, text_count=None, total_token_count=43167, video_duration_seconds=None)\n"
          ]
        }
      ],
      "source": [
        "for cache in client.caches.list():\n",
        "  print(cache)"
      ]
    },
    {
      "cell_type": "markdown",
      "metadata": {
        "id": "KKgCRRXfwU_m"
      },
      "source": [
        "#### Use a cache"
      ]
    },
    {
      "cell_type": "code",
      "execution_count": null,
      "metadata": {
        "id": "-Qo7-sU2w92j",
        "outputId": "e71c0420-b547-4db7-86c7-063bb59958d0"
      },
      "outputs": [
        {
          "data": {
            "text/markdown": "Both research papers share the goal of developing and presenting the Gemini family of highly capable multimodal models. These models aim to understand and reason across image, audio, video, and text data.",
            "text/plain": [
              "<IPython.core.display.Markdown object>"
            ]
          },
          "execution_count": 52,
          "metadata": {},
          "output_type": "execute_result"
        }
      ],
      "source": [
        "response = client.models.generate_content(\n",
        "  model=MODEL_ID,\n",
        "  contents=\"What is the research goal shared by these research papers?\",\n",
        "  config=types.GenerateContentConfig(cached_content=cached_content.name)\n",
        ")\n",
        "\n",
        "Markdown(response.text)"
      ]
    },
    {
      "cell_type": "markdown",
      "metadata": {
        "id": "4QSOsWurx4CG"
      },
      "source": [
        "#### Delete a cache"
      ]
    },
    {
      "cell_type": "code",
      "execution_count": null,
      "metadata": {
        "id": "zSZeG60Dx4V-"
      },
      "outputs": [],
      "source": [
        "result = client.caches.delete(name=cached_content.name)"
      ]
    },
    {
      "cell_type": "markdown",
      "metadata": {
        "id": "sXNCRn8Wx71d"
      },
      "source": [
        "## Get text embeddings\n",
        "\n",
        "You can get text embeddings for a snippet of text by using `embed_content` method and using the `gemini-embedding-exp-03-07` model.\n",
        "\n",
        "\n",
        "\n",
        "The Gemini Embeddings model produces an output with 3072 dimensions by default. However, you have the option to choose an output dimensionality between 1 and 3072. See the [embeddings guide](https://ai.google.dev/gemini-api/docs/embeddings) for more details."
      ]
    },
    {
      "cell_type": "code",
      "execution_count": null,
      "metadata": {
        "id": "hpJIA5zmx8Vy"
      },
      "outputs": [],
      "source": [
        "TEXT_EMBEDDING_MODEL_ID = \"gemini-embedding-exp-03-07\""
      ]
    },
    {
      "cell_type": "code",
      "execution_count": null,
      "metadata": {
        "id": "0afi69R9x_bh",
        "outputId": "820af487-36db-43eb-ebde-5841d2930e2a"
      },
      "outputs": [
        {
          "name": "stdout",
          "output_type": "stream",
          "text": [
            "[ContentEmbedding(values=[-0.0010864572, 0.0069392114, 0.017009795, -0.010305981, -0.009999484, -0.0064486223, 0.0041451487, -0.005906698, 0.022229617, -0.018305639, -0.018174557, 0.022160593, -0.013604425, -0.0027964567, 0.12966625, 0.028866312, 0.0014726851, 0.03537643, -0.015166075, -0.013479812, -0.019288255, 0.010106378, -0.0043296088, 0.018035924, 0.00295039, -0.007934979, -0.005416007, -0.0095809875, 0.040398005, -0.0020784356, 0.011551388, 0.009726445, 0.006670387, 0.020050988, -0.00747873, -0.0012074928, 0.0047189263, -0.006359583, -0.01718203, -0.023562348, -0.0051814457, 0.023801394, -0.004928927, -0.016113443, 0.01672777, -0.0069929743, -0.012722719, -0.0137646515, -0.041852377, -0.0011546672, 0.017030545, -0.0022786013, 0.011707037, -0.18675306, -0.035211734, -0.011472648, 0.01970727, 0.0012368832, -0.020796346, -0.018513134, -0.006821043, -0.01843726, -0.00827558, -0.042159837, 0.0038724025, 0.01933339, 0.0139452815, 0.025059255, 0.0015087503, -0.016094029, -0.0035785383, 0.023902593, -0.0050776727, -0.016679537, 0.022865271, 0.008837786, 0.0008471195, -0.01220322, -0.0013522654, -0.007976455, 0.0006637936, 0.025458207, -0.006010767, 0.0021908805, -0.011703044, -0.018676927, -0.008143593, -0.0141673125, -0.010751537, 0.012337637, -0.0076921326, 0.019663645, 0.01961247, -0.014446872, -0.023902485, -0.020467523, -0.0043290784, -0.003858363, 0.011151444, -0.012050864, -0.037344858, -0.018311145, -0.010394608, -0.004726911, 0.04117055, -0.033806175, 0.011635462, -0.035330806, -0.00815783, -0.0013295382, 0.021365708, 0.009236981, 0.002622301, -0.008478866, 0.004194026, -0.13719869, -0.006559312, -0.00016996425, -0.036041994, -0.0025625098, 0.02559097, 0.0053741336, -0.007036889, 0.021299673, 0.0010404863, 0.004949138, -0.009276008, -0.0123007, 0.011952254, 0.013570649, 0.015288701, -0.018467866, 0.019633675, 0.027040187, 0.03083927, -0.023167994, -0.00860253, -0.007533823, -0.013234631, -0.0018147806, 0.014874688, -0.00902069, -0.011072015, 0.018612213, -0.008397003, -0.010828689, -0.04634885, 0.0047052884, 0.01896224, -0.00955711, -0.010026713, -0.0078065423, 0.0051497044, -0.00040447983, 0.033461634, -0.034293722, 0.014118888, -0.004529941, -0.017266463, 0.0140510965, 0.02116219, -0.0008573897, 0.005262764, 0.015808022, 0.008189909, 0.0066775414, -0.01982733, 0.004447163, -0.013748851, -0.012263617, 0.03187712, 0.019079056, 0.0018257902, -0.006663827, -0.035874076, -0.009532831, -0.00767039, 0.01920067, 0.0063287723, 0.010936665, 0.0068512955, -0.003951047, 0.012654355, 0.0056467988, 0.014609136, -0.0112532, -0.022861771, -0.00019155444, -0.0035079236, 0.005640397, 0.008493423, -0.007674433, 0.0060488945, -0.00014972771, 0.0018551026, -0.022106683, -0.010912123, -0.00692748, 0.00082603685, 0.004777193, 0.018472826, 0.0028951538, -0.03787866, 0.00880096, 0.018220635, -0.017354028, -0.002607979, -0.038689394, -0.019139776, -0.011016459, -0.0050376304, 0.0054770657, -9.740133e-05, -0.010694921, 0.023691846, -0.0075150793, 0.009465061, -0.015986348, -0.007761816, -0.020969836, 0.019641358, 0.007889336, 0.029927334, -0.009953307, -0.00019650525, -0.025863469, -0.003444669, -0.01153596, -0.004415604, 0.021540072, 0.006559962, 0.025053801, 0.0056192847, -0.007486104, 0.013032885, 0.037306573, -0.00271677, -0.020958584, 0.0076768035, -0.00783927, 0.017091563, -0.02128239, 0.019019451, 0.016206896, 0.029406346, -0.0018020004, 0.02539366, 0.01882685, 0.007176445, 0.012711726, 0.014156308, 0.039208278, -0.019199641, -0.025535773, -0.0059294435, -0.005418691, -0.019407388, -0.026441444, -0.0018307104, -0.03484667, -0.0109564, -0.026751652, -0.012015977, -0.016045032, 0.03152392, 0.0036260244, 0.02405883, 0.006958002, -0.016983867, -0.013262083, -0.00641541, 0.008347203, 0.022806153, 0.016365891, -0.0153061515, 0.009918248, -0.06693624, -0.0019722858, -0.0018459177, 0.0044642664, -0.022770565, -0.0064521283, 0.02353878, 0.018590506, -0.011308159, 0.009857573, -0.03638497, -0.0041196663, 0.006718955, -0.01078464, 0.018012997, -0.005361271, -0.031417586, 0.02607448, 0.012458879, -0.010646311, -0.0011602639, -0.0045988397, 0.015334945, -0.004985883, 0.026913218, -0.0060063777, 0.028519275, 0.006629424, -0.0018857311, 0.007199854, -0.011259581, -0.003374387, 0.011318146, 0.012620089, -0.030416477, -0.022575969, -0.004214, 0.0003387503, -0.0038354357, 0.007649631, -0.014317435, -0.011946815, 0.009769249, 0.009086063, -0.014941184, 0.022398934, 0.020059768, -0.0043511, -0.021282574, 0.010069072, -0.00084958936, -5.7785055e-05, 0.012320355, -0.006268586, 0.0038677952, 0.010556854, 0.018060513, -0.015884643, -0.0019441564, 0.0016806542, -0.044558853, -0.0012183524, -0.020287087, 0.023521353, 0.0026591024, -0.01042636, 0.007911744, -0.007070154, 0.03288145, -0.025431743, 0.0030213404, -0.010339457, -0.029258909, -0.037619025, -0.0032070312, -0.005920259, 0.020691944, -0.008214718, -0.013414979, 0.0010724362, -0.024813864, -0.010711007, -0.015644528, 0.020522095, -0.006281655, 0.0005215323, 0.0059536644, 0.01804103, -0.021453187, 0.018300226, 0.015036, -0.014113515, 0.0054522506, 0.013074563, 0.014957752, -0.019954173, -0.022518305, 0.043303538, -0.015666269, -0.011606879, 0.008812601, 0.02851191, 0.0059389016, -0.009907045, 0.0029188083, 0.00044185825, 0.012442293, -0.003682819, -0.011905547, -0.01696744, 0.021608084, 0.008657803, -0.016770784, 0.009157943, -0.0172174, -0.004420134, -0.019460047, 0.021001773, -0.037062626, 0.017578907, 0.0022064345, -0.0063381675, -0.005505114, 0.028129283, -0.00076836336, 0.011033638, 0.02136562, 0.010403041, 0.02513545, 0.007666758, 0.0075840415, -0.03135997, 0.020196876, -0.031748664, -0.01740725, 0.004065171, 0.0341386, -0.013049605, 0.009986332, -0.017170249, -0.019585494, -0.011835839, 0.018136486, 0.0025603147, 0.005899916, 0.010385598, -0.015090591, -0.016401261, -0.004605965, -0.011184718, -0.01684071, 0.009561088, -0.0228618, 0.0021548115, 0.00039431226, -0.008055844, -0.029934235, -0.00035962914, 0.0052539143, 0.0011006859, -0.021176048, 0.0070982473, -0.013639276, -0.02569786, 0.0043143197, 0.031214237, 0.019139307, -0.009823079, -0.029861005, 9.051896e-05, 0.013936752, 0.024027163, -0.010749596, -0.009489837, 0.019328669, -0.0026014692, -0.0011502022, 0.0031699804, -0.02799399, 0.0064459625, -0.035651643, -0.027752124, -0.015718672, 0.017951613, 0.0031968197, -0.015876006, 0.009171738, -0.002639923, 0.024022965, -0.0015891633, -0.008931334, -0.028550811, -0.0039227167, 0.003693095, -0.021074142, -0.009665058, -0.017912686, -0.024983345, -0.026133278, -0.013026303, -0.0036634533, 0.015572878, -0.0015817432, -0.006680556, 0.027914636, 0.0030034012, -0.045562305, 0.0044750622, 0.003692745, 0.0031360902, 0.006223915, 0.008487964, 0.027744496, -0.004741036, 0.010846702, -0.0001772974, 0.006346074, 0.027797882, 0.018502695, -0.022353033, -0.010610171, 0.013408043, 0.004162492, -0.004370963, 0.0056044194, -0.013245418, -0.018543616, 0.00982613, -0.010309433, -0.011403688, 0.019779319, -0.01692319, 0.016883591, 0.0039544655, -0.0041138344, -0.00063121016], statistics=None), ContentEmbedding(values=[-0.007656846, -0.0054716235, -0.0022609578, -0.01828077, -0.024059096, -0.009328189, 0.007841666, -0.017600708, -0.020037796, 0.0007041083, -0.021982383, -0.014228797, 0.006389422, 0.0033384573, 0.13877548, 0.00071368535, 0.02660648, -0.016807457, -0.002774708, -0.033598144, 0.009136058, -0.010518535, -0.01765957, 0.008413775, -0.012133464, 0.0005497525, -0.005911808, 0.010362617, 0.029897, 0.023426512, 0.002516537, 0.013438467, 0.014629691, 0.0071821967, -0.0020077894, -0.007421308, -0.0075392514, 0.01131475, -0.02363941, -0.008839639, -0.019605042, 0.012752105, 0.014192063, -0.016767371, 0.015282549, -0.019914307, 0.00381812, -0.01551508, -0.0521566, -0.012766039, 0.008752456, -0.007198684, -0.0066657816, -0.16686901, -0.018074488, 0.0043506487, -0.0001522175, -0.02115512, -0.010462675, 0.007636461, 0.0301948, -0.006009675, -0.01135165, -0.036605343, 0.04006906, 0.036888044, -0.0016293195, 0.013241053, 0.0005548855, 0.008130081, 0.027193218, 0.0047560516, 0.023012726, -0.014274387, 0.008621267, -0.016665483, -0.016523534, -0.021947058, -0.0077380626, -0.008166752, -0.010050893, -0.0074697966, 0.021521091, 0.0086479345, -0.008508939, -0.03031165, -0.0068692113, 0.032342624, -0.003118368, -0.009117541, -6.816292e-05, 0.028233083, -0.008163683, -0.029179588, -0.034861602, -0.009573525, -0.020023588, -0.023040103, 0.0030518328, -0.024019923, -0.022863831, -0.032659397, 0.0070772786, 0.020435989, 0.040376533, -0.0041731866, -0.002347033, -0.02413656, 0.007849301, -0.02521424, 0.0055464, 0.018364437, -0.006068082, 0.0067970897, -0.0020692444, -0.13633871, 0.0024911403, 0.029025618, -0.01822005, -0.00068347534, 0.028498169, -0.02003824, -0.005201011, 0.019467875, -0.014789815, -0.009240158, -0.01092699, -0.015462703, 0.0052224225, -0.008016013, 0.00024559154, 0.009251118, 0.0069343084, -0.0019475252, 0.00010161977, 0.00016872193, 0.004819494, 0.009520105, 0.0047560334, 0.0068129036, 0.0009135485, 0.005203792, -0.0021940363, 0.00706561, 0.007379945, 0.001429699, -0.033103433, 0.005056536, 0.019206278, -0.015451727, 0.018232718, -0.0028666456, -0.014281539, 0.011591872, 0.013972143, -0.026121514, -0.0040684207, 0.0021576227, 0.007424997, 0.008025992, 0.020948837, 0.028486798, 0.0062481253, 0.0043546027, 0.014694577, -0.0046383147, -0.0063183163, -0.010308587, -0.006676759, 0.00023315188, 0.007651558, 0.010044135, 0.024024103, 0.005205015, -0.024351785, -0.013825748, 0.0020594138, 0.012965284, 0.026036952, 0.005774208, 0.0089409165, -0.003130275, 0.022494687, -0.008514529, 0.04340478, -0.014460979, -0.033090215, 0.0091084, -0.023488699, -0.0014124133, -0.012941532, -0.0066351974, 0.0017085552, 0.007956416, 0.0003004137, -0.024788948, -0.003301565, -0.022200478, 0.0003641124, 0.019311883, 0.010051644, 0.020309737, -0.009484712, 0.022391709, 0.032718945, -0.032228876, 0.0067771166, -0.024249213, -0.012446893, 0.002088205, 0.012579202, -0.00083260256, -0.008893583, -0.023155073, 0.032454353, -0.011006852, 0.012839911, -0.026118213, -0.013184722, -0.034938235, 0.02057763, 0.025285982, 0.018924514, -0.008026841, -0.015856279, -0.015999286, 0.017679567, -0.00814616, -0.005300294, 0.019652555, 0.007891489, 0.014122247, -0.01952266, 0.010615487, 0.0074037137, 0.0072862045, 0.00245924, -0.02344247, 0.01139664, -0.006742409, 0.016169304, -0.013068888, 0.006632777, -0.0071053053, 0.013624314, 0.00447619, 0.0051080133, 0.005275942, 0.0010198184, 0.03104638, 0.011298874, 0.018567644, -0.03147287, -0.017634673, -0.0020519197, 0.008889621, -0.015978983, -0.020766942, -0.0015208161, 0.0025023585, -0.034986395, -0.018094117, -0.002887616, 0.010392315, 0.02317207, 0.022331795, -0.01181001, 0.015912922, -0.040108345, -0.036180206, 0.0066158813, 0.005072058, -0.013836105, 0.026300345, -0.0046530846, -0.00026161765, -0.07594779, 0.011410783, 0.008836317, -0.0016703941, -0.025399093, 0.017229842, 0.004007818, -0.0107424725, 0.01660491, 0.008635422, -0.03180023, -0.021570776, 0.019575454, 0.012860607, 0.010818954, -0.0057622627, -0.01432322, 0.025533821, 0.010860276, -0.0031886925, -0.014082613, -0.020769574, 0.008472402, 0.004210352, -0.01557525, -0.014925917, -0.011841784, 0.009599633, 0.0066989544, -0.0043498, 0.016848614, 0.0021716077, -0.00728318, 0.013540135, -0.018262763, -0.023817228, -0.017702414, -0.010030174, 0.006638676, -0.009432463, -0.027740123, 0.018761098, 4.0153187e-05, 0.0063677323, -0.012745573, 0.007132947, 0.0123837255, -0.017630618, -0.009456824, 0.0026814528, -0.0044771372, 0.026264062, 0.013139463, -0.005062273, 0.0064491704, 0.007458639, 0.030334283, -0.022320094, 0.003950616, 0.026235657, -0.011925879, 0.009557192, 0.019666152, 0.017010847, 0.0053332457, -0.009841124, -0.016772311, 0.000101540216, 0.013239687, -0.030836146, 0.017436236, -0.015986308, -0.018840866, -0.04734381, 0.015106523, 0.0012794366, 0.043470323, -0.008043584, -0.030243462, 0.023938688, -0.019942623, -0.00012307196, 0.012524858, -0.0047443, -0.027073998, -3.2899105e-05, -0.005028405, -0.00012817772, 0.0047262106, 0.0099122515, 0.012217981, -0.0037573648, 0.019995114, -0.0054517924, 0.052256417, 0.0027910376, -0.023334602, 0.024394663, 0.013351554, -0.017271345, -0.00717748, 0.014934139, -0.0011306563, -0.015925484, 0.0069936262, -0.003513633, 0.018764017, -0.0028536771, -0.009259897, 0.002138109, -0.0044884016, 0.006229135, -0.032676168, 0.006559976, -0.02137974, -0.015655626, -0.04403115, 0.042076588, -0.037027486, 0.025280135, 0.0013930759, -0.017279863, -0.00096550374, -0.008418598, 0.014563966, 0.032641407, 0.018366342, 0.0013804975, -0.0011613375, 0.015940294, -0.036884688, -0.033417627, 0.0033151172, -0.013599857, -0.0033053232, -5.2397078e-05, -0.00380776, -0.006155054, 0.026247632, -0.0011332487, -0.011788115, -0.011718398, 0.01751585, 0.004211565, 0.010343126, -0.018074505, -0.01758929, 0.017277392, -0.0005262074, -0.015269636, -0.014438724, 0.019001339, -0.027014693, 0.016793495, -0.011400891, -0.0153614925, 0.007219436, -0.019943465, 0.010345884, 0.007007292, -0.001977113, -0.007492359, 0.003025144, -0.011914101, -0.0013606256, -0.010288154, 0.018966237, -0.018571323, -0.0254951, -0.00659443, -0.00044052218, 0.00085414166, -0.02615725, -0.0041063717, 0.018749155, 0.00871349, -0.01878802, 0.025841549, -0.025626943, 0.007847169, -0.022019595, -0.0026578675, -0.007951495, 0.03057958, 0.004004851, -0.019342013, -0.00078769965, -0.017057968, -0.0038439094, -0.0012577366, 0.0014353464, -0.031818666, -0.0012015817, -0.00071325654, -0.018692698, -0.0038891167, -0.011306105, 0.009618673, -0.011898711, -0.00436823, -0.009662354, 0.014716167, -0.022470241, 0.005623127, -0.0018204594, 0.007171108, -0.0033427416, 0.00807409, 0.021702357, 0.01246096, 0.014848652, 0.008705887, 0.0062702983, -0.0029337527, 0.012038974, 0.002743478, -0.009585571, 0.011186505, -0.0050974586, -0.007658259, -0.0038860384, 0.0035524182, -0.0072764037, 0.005367861, 0.02687031, -0.0036513198, -0.019019434, 0.026811415, -0.009023654, 0.008083391, 0.008973926, -0.0033781976, 0.03610695, -0.0008958205, -0.025020758, 0.011005615], statistics=None), ContentEmbedding(values=[0.010123913, -0.024184551, 0.0024574941, -0.00984163, -0.0060574994, -0.007628851, 0.013202136, -0.027927121, -0.0016973788, -0.014774812, -0.011437808, -0.019120526, -0.0063477424, -0.0050772373, 0.12938297, 0.006073787, -0.0055986797, 0.030279782, 0.015260121, -0.0014168695, -0.006316713, 0.0007294639, -0.034072377, 0.013348729, 0.0051308265, -0.0042954376, -0.009459755, -0.012910496, 0.010751937, -0.0017263377, -0.02083192, 0.0054532792, 0.008046588, 0.0015794274, -0.0045236745, 0.0077354256, -0.009697459, 0.006621996, -0.0447099, -0.019261474, 0.0050193793, 0.010624901, 0.036847603, -0.014380205, 0.023050537, 0.019384636, 0.03039269, -0.02306347, -0.025763597, 0.017585728, 0.0056267884, -0.014494471, -0.013168205, -0.18764982, 0.011082365, 0.007989808, -0.0069600893, 0.0019873218, -0.020733004, -0.011488622, 0.0072846347, -0.022266442, -0.021857709, -0.040680353, 0.0043984484, 0.016409805, 0.0010387278, 0.028186318, -0.020797107, 0.007164954, -0.007931046, 0.011955907, 0.0070153666, -0.03028713, 0.039638296, -0.0005224554, -0.008104055, -0.021054681, 0.017767426, -0.01705528, -0.0015202612, 0.027076574, -0.008269598, 0.0041972124, -0.009893149, -0.0059321057, -0.02742561, 0.011967838, -0.0012843752, -0.012446694, 0.013188314, 0.01000231, 0.0063591595, -0.013250329, -0.00891349, -0.011323209, 0.00077099906, -0.032252073, 0.017312435, -0.010896756, -0.019212449, -0.020190762, -0.021011386, 0.017364316, 0.019358765, -0.022318685, -0.00037366268, -0.012776465, 0.0038081587, 0.0033944813, -0.0043002698, 0.009349315, -0.0067447163, -0.022865217, 0.018466627, -0.12567371, 0.014273525, -0.010811105, -0.034171578, -0.00986296, 0.020623991, -0.018133184, 0.005852781, 0.017255975, -0.031910732, -0.0030595523, -8.467671e-05, -0.021930836, 0.0068243765, -0.015266163, -0.009200143, -0.015542636, 0.0124916, -0.0020129983, 0.023301797, -0.025699941, -0.009705453, 0.0001904919, 0.0034638436, 0.023921907, 0.0061708596, -0.011863096, 0.0032605287, -0.002273647, 0.008210196, 0.014686617, -0.024337158, 0.01702551, -0.003450355, -0.028080298, 0.0049419017, -0.003694745, -0.015704596, 0.01018443, 0.014007653, -0.015892938, 0.016233146, -0.02265589, -0.0059583713, 0.03224122, -0.002179733, -0.0026286074, 0.008065458, 0.007815891, 0.0028783032, 0.01633201, -0.0106642805, -0.0097291265, 0.0023617405, 0.0070764804, -0.016146986, 0.010570364, 0.0070279827, -0.020627148, -0.0011511543, -0.0156149, -0.0065835635, 0.0131685445, 0.025185045, -0.026598109, 0.0067955614, -0.018240783, 0.026478695, -0.022033757, 0.0026134413, -0.0046666986, -0.015456591, -0.011002112, -0.02380814, 0.0061745737, -0.02425406, -0.008282986, -0.005283422, -0.007504423, 0.034426205, -0.016757073, 0.006084808, -0.009035631, 0.016955512, 0.008245669, -0.0073402068, 0.02553641, -0.008654033, 0.014876972, 0.032673664, -0.003084951, -0.009576712, -0.02932718, 0.014440552, -0.0094024055, -0.0019900794, 0.010864726, -0.0020119066, -0.005567204, 0.015304985, -0.02454885, 0.005806109, -0.02033733, -0.0047175116, -0.034314957, 0.031043971, -0.005079264, -0.0045578605, -0.019883323, 0.010806703, -0.0071122698, 0.033759486, -0.001801324, -0.0021303364, 0.016767962, -0.0006876317, 0.010751876, -0.021464797, -0.005718171, 0.024783941, 0.0013074557, -0.009608803, -0.024898155, -0.0033092692, 0.0021385818, 0.04522083, -0.032593306, 0.0072582634, -0.009225952, 0.017858706, 0.0012759054, -0.013485343, 0.015544198, 0.011795428, 0.040899247, -0.00069792516, 0.0060667433, -0.02899565, -0.012843072, 0.0043725795, -0.01524955, -0.014689824, -0.0298663, -0.027560966, 0.011597711, -0.023196006, -0.021717671, 0.0060858405, -0.0029189081, 0.012464605, 0.007206033, 0.018199615, 0.018322373, -0.027387645, -0.012912569, 0.006361473, -0.014042439, -0.0117523605, 0.031090915, -0.0012707706, 0.015854066, -0.045829523, 0.021503735, 0.013610757, 0.0063500395, -0.023577746, 0.025269885, 0.009734858, 0.008017143, -0.030154899, 0.0074204113, -0.04357749, 0.006725251, 0.006438892, -0.008316479, 0.0055396194, 0.010456471, -0.039213415, -0.0016565609, -0.0076634185, -0.019674862, 0.013912176, -0.015208737, 0.0026675956, -0.020816829, 0.015364492, 0.016685575, 0.0036583082, 0.010491676, -0.008024939, -0.0115223965, -0.0073406743, 0.025991688, -0.0019827902, -0.040618435, -0.025709389, -0.018039724, -0.03704198, 0.011772438, 0.02251757, 0.011422337, -0.007120524, -0.0016772132, -0.0045654117, 0.0022064527, 0.018950423, 0.02184946, 0.011520042, -0.011484331, -0.049756724, 0.019571468, -0.0046121962, 0.0043320926, 0.019130051, 0.010161489, 0.010426192, 0.01786779, -0.003499813, -0.010789958, 0.011071552, -0.0057907277, -0.023005035, 0.0151208965, 0.01917635, 0.013975556, 0.018622348, -0.006546046, 0.009202783, -0.025099024, 0.023820573, -0.014544349, 0.010720364, -0.017635496, -0.004215524, -0.033759687, 0.012547204, 0.004002194, 0.018849175, -0.0018497027, 0.010772782, 0.00023778083, 0.0036791572, 0.013181602, 0.008822303, 0.0023120984, -0.0125180585, 0.0009309786, 0.018743241, 0.009012745, -0.0011289422, 0.009069913, 0.00047540484, 0.011958723, 0.026829507, 0.0079935, 0.012257517, 0.0045228866, -0.0021182653, 0.027351452, -0.009751282, -0.0019178375, -0.012180012, 0.0027871225, 0.0046981145, -0.019133648, 0.003518922, -0.008907876, 0.00519272, -0.023978889, -0.01785999, 0.014217515, -0.010722089, 0.019802496, -0.011690726, 0.01404721, -0.022589557, -0.0072269132, -0.031006709, 0.0075919162, -0.02059628, 0.011502807, 0.010286699, 0.002815024, -0.018629624, -0.00064941496, -0.009847998, 0.022817278, -0.00965323, -0.0006611025, 0.010875546, -0.00671862, -0.0030061037, -0.025059309, 0.013874472, -0.008276452, 0.0017234817, -0.017365942, -0.011890605, 0.006300548, 0.054077353, 0.0060293595, -0.008900733, 0.0042965575, -0.003023507, 0.028528834, -0.013308335, -0.023106325, -0.02697421, 0.00027281357, 0.006410152, -0.014747795, -0.039214198, 0.0077020386, -0.0040754215, -0.0019214447, -0.011596089, 0.0035247107, -0.00827319, -0.014951488, 0.020930216, 0.02421788, -0.015887631, 0.017276093, -0.023115896, -0.015462539, 0.012966261, -0.021026254, 0.009666582, 0.0031361317, -0.032232314, -0.021199312, -0.013343085, 0.027238287, -0.020731848, -0.0065134065, 0.0052098935, -0.01574822, -0.010890512, 0.012086466, -0.008386065, 0.031421926, -0.028696155, 0.0070544067, -0.013234329, 0.019343777, 0.02044473, -0.03750152, -0.0013069039, 0.0061610253, 0.02142744, 0.0060286005, -0.006865511, -0.03160722, -0.0029387744, -0.012192755, -0.018661724, -0.010241397, 0.021920435, 0.015104603, -0.00097416, 0.0013750828, 0.016211769, 0.009460104, -0.0028220678, -0.0034243225, 0.007575701, 0.009534963, -0.004933286, -0.0059568216, 0.025188934, 0.0071490803, 0.020389523, 0.03491828, 0.015357472, -0.004827867, 0.02963931, 0.013511597, -0.001943976, -0.019258576, 0.012200777, -0.0048746285, -0.012297192, -0.0006799561, -0.020074481, -0.01705832, 0.025238043, -0.01145201, -0.007653225, 0.0021700312, -0.01395519, 0.0008708162, 0.0045772055, -0.014608046, 0.04328866, -0.00073269, -0.028185768, 0.0015157397], statistics=None)]\n"
          ]
        }
      ],
      "source": [
        "response = client.models.embed_content(\n",
        "    model=TEXT_EMBEDDING_MODEL_ID,\n",
        "    contents=[\n",
        "        \"How do I get a driver's license/learner's permit?\",\n",
        "        \"How do I renew my driver's license?\",\n",
        "        \"How do I change my address on my driver's license?\"\n",
        "        ],\n",
        "    config=types.EmbedContentConfig(output_dimensionality=512)\n",
        ")\n",
        "\n",
        "print(response.embeddings)"
      ]
    },
    {
      "cell_type": "markdown",
      "metadata": {
        "id": "Tje8pMbd5z7j"
      },
      "source": [
        "You will get a set of three embeddings, one for each piece of text you passed in:"
      ]
    },
    {
      "cell_type": "code",
      "execution_count": null,
      "metadata": {
        "id": "zNeuBlNt4CRk",
        "outputId": "750a90f5-446f-41e7-bed5-ba667e34d06f"
      },
      "outputs": [
        {
          "data": {
            "text/plain": [
              "3"
            ]
          },
          "execution_count": 56,
          "metadata": {},
          "output_type": "execute_result"
        }
      ],
      "source": [
        "len(response.embeddings)"
      ]
    },
    {
      "cell_type": "markdown",
      "metadata": {
        "id": "hG5UPmq3543E"
      },
      "source": [
        "You can also see the length of each embedding is 512, as per the `output_dimensionality` you specified."
      ]
    },
    {
      "cell_type": "code",
      "execution_count": null,
      "metadata": {
        "id": "s4oAtC8a4GYH",
        "outputId": "6e5441a0-84b7-4c89-d65b-3b753aa35b65"
      },
      "outputs": [
        {
          "name": "stdout",
          "output_type": "stream",
          "text": [
            "512\n",
            "([-0.0010864572, 0.0069392114, 0.017009795, -0.010305981], '...')\n"
          ]
        }
      ],
      "source": [
        "print(len(response.embeddings[0].values))\n",
        "print((response.embeddings[0].values[:4], '...'))"
      ]
    },
    {
      "cell_type": "markdown",
      "metadata": {
        "id": "_SOkIVJIyF1W"
      },
      "source": [
        "## Next Steps\n",
        "\n",
        "### Useful API references:\n",
        "\n",
        "Check out the [Google GenAI SDK](https://github.com/googleapis/python-genai) for more details on the new SDK.\n",
        "\n",
        "### Related examples\n",
        "\n",
        "For more detailed examples using Gemini 2.0, check the [Gemini 2.0 folder of the cookbook](https://github.com/google-gemini/cookbook/tree/main/gemini-2/). You'll learn how to use the [Live API](./Get_started_LiveAPI.ipynb), juggle with [multiple tools](../examples/LiveAPI_plotting_and_mapping.ipynb) or use Gemini 2.0 [spatial understanding](./Spatial_understanding.ipynb) abilities.\n",
        "\n",
        "Also check the [experimental Gemini 2.0 Flash Thinking](./Get_started_thinking.ipynb) model that explicitly showcases its thoughts and can manage more complex reasonings."
      ]
    }
  ],
  "metadata": {
    "colab": {
      "collapsed_sections": [
        "Mfk6YY3G5kqp"
      ],
      "name": "Get_started.ipynb",
      "provenance": []
    },
    "kernelspec": {
      "display_name": "Python 3",
      "name": "python3"
    }
  },
  "nbformat": 4,
  "nbformat_minor": 0
}